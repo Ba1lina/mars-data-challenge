{
 "cells": [
  {
   "cell_type": "code",
   "execution_count": 1,
   "metadata": {},
   "outputs": [],
   "source": [
    "# Dependencies\n",
    "from bs4 import BeautifulSoup\n",
    "import requests\n",
    "import os"
   ]
  },
  {
   "cell_type": "code",
   "execution_count": 2,
   "metadata": {},
   "outputs": [],
   "source": [
    "# Mars News URL to scrape\n",
    "url = 'https://redplanetscience.com/'\n",
    "\n",
    "# Retrieve page with the requests module\n",
    "html = requests.get(url)"
   ]
  },
  {
   "cell_type": "code",
   "execution_count": 4,
   "metadata": {},
   "outputs": [],
   "source": [
    "# Create BeautifulSoup object; parse with 'html.parser'\n",
    "soup = BeautifulSoup(html.text, 'html.parser')"
   ]
  },
  {
   "cell_type": "code",
   "execution_count": 25,
   "metadata": {},
   "outputs": [],
   "source": [
    "# Examine the results and look for a ul with the class 'querylist'\n",
    "result = soup.find('div', id=\"news\",class_='container')\n",
    "\n",
    "# Retrieve each list item\n",
    "queries = result.find_all(class_='row')"
   ]
  },
  {
   "cell_type": "code",
   "execution_count": 24,
   "metadata": {},
   "outputs": [],
   "source": [
    "for query in queries:\n",
    "    print(query)"
   ]
  },
  {
   "cell_type": "code",
   "execution_count": 23,
   "metadata": {},
   "outputs": [],
   "source": [
    "# Loop through returned queries\n",
    "for query in queries:\n",
    "\n",
    "    # Retrieve the query title\n",
    "    title = query.find('div', class_='content_title')\n",
    "\n",
    "    # Access the query's text content\n",
    "    title_text = title.text\n",
    "\n",
    "    # Access the query with CSS selectors\n",
    "    preview = query.find('div', class_='article_teaser_body')    \n",
    "\n",
    "    print('\\n-----------------\\n')\n",
    "    print(title_text)\n",
    "    print(preview)\n"
   ]
  },
  {
   "cell_type": "code",
   "execution_count": null,
   "metadata": {},
   "outputs": [],
   "source": []
  }
 ],
 "metadata": {
  "kernelspec": {
   "display_name": "Python 3.7.7 ('PythonData')",
   "language": "python",
   "name": "python3"
  },
  "language_info": {
   "codemirror_mode": {
    "name": "ipython",
    "version": 3
   },
   "file_extension": ".py",
   "mimetype": "text/x-python",
   "name": "python",
   "nbconvert_exporter": "python",
   "pygments_lexer": "ipython3",
   "version": "3.7.7"
  },
  "orig_nbformat": 4,
  "vscode": {
   "interpreter": {
    "hash": "6ff21250d473e2a3f84cf029a2902dd8ff4214afabc94de27afa0913b66bcb53"
   }
  }
 },
 "nbformat": 4,
 "nbformat_minor": 2
}
